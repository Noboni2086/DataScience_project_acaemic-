{
 "cells": [
  {
   "cell_type": "code",
   "execution_count": null,
   "metadata": {
    "_execution_state": "idle",
    "_uuid": "051d70d956493feee0c6d64651c6a088724dca2a",
    "execution": {
     "iopub.execute_input": "2025-04-23T19:47:09.549835Z",
     "iopub.status.busy": "2025-04-23T19:47:09.548097Z",
     "iopub.status.idle": "2025-04-23T19:47:09.594810Z",
     "shell.execute_reply": "2025-04-23T19:47:09.592231Z"
    },
    "trusted": true,
    "vscode": {
     "languageId": "r"
    }
   },
   "outputs": [
    {
     "data": {
      "text/html": [
       "'heart_disease_uci - modified.csv'"
      ],
      "text/latex": [
       "'heart\\_disease\\_uci - modified.csv'"
      ],
      "text/markdown": [
       "'heart_disease_uci - modified.csv'"
      ],
      "text/plain": [
       "[1] \"heart_disease_uci - modified.csv\""
      ]
     },
     "metadata": {},
     "output_type": "display_data"
    }
   ],
   "source": [
    "\n",
    "library(tidyverse) \n",
    "\n",
    "\n",
    "\n",
    "list.files(path = \"/kaggle/input/heart-disease-uci-modified\")\n"
   ]
  },
  {
   "cell_type": "markdown",
   "metadata": {},
   "source": [
    "Load dataset"
   ]
  },
  {
   "cell_type": "code",
   "execution_count": null,
   "metadata": {
    "execution": {
     "iopub.execute_input": "2025-04-23T19:47:09.601496Z",
     "iopub.status.busy": "2025-04-23T19:47:09.599450Z",
     "iopub.status.idle": "2025-04-23T19:47:09.662346Z",
     "shell.execute_reply": "2025-04-23T19:47:09.660477Z"
    },
    "trusted": true,
    "vscode": {
     "languageId": "r"
    }
   },
   "outputs": [
    {
     "name": "stdout",
     "output_type": "stream",
     "text": [
      "'data.frame':\t216 obs. of  16 variables:\n",
      " $ id      : int  1 2 3 4 5 6 7 8 9 10 ...\n",
      " $ age     : int  63 67 67 37 41 56 62 57 63 53 ...\n",
      " $ sex     : chr  \"Male\" \"Male\" \"Male\" \"Male\" ...\n",
      " $ dataset : chr  \"Cleveland\" \"Cleveland\" \"Cleveland\" \"Cleveland\" ...\n",
      " $ cp      : chr  \"typical angina\" \"asymptomatic\" \"asymptomatic\" \"non-anginal\" ...\n",
      " $ trestbps: num  145 160 120 130 130 120 140 120 130 140 ...\n",
      " $ chol    : int  233 286 229 250 204 236 268 354 254 203 ...\n",
      " $ fbs     : logi  TRUE FALSE FALSE FALSE FALSE FALSE ...\n",
      " $ restecg : chr  \"lv hypertrophy\" \"lv hypertrophy\" \"lv hypertrophy\" \"normal\" ...\n",
      " $ thalch  : int  150 108 129 187 172 178 160 163 147 155 ...\n",
      " $ exang   : logi  FALSE TRUE TRUE FALSE FALSE FALSE ...\n",
      " $ oldpeak : num  2.3 1.5 2.6 3.5 1.4 0.8 3.6 0.6 1.4 3.1 ...\n",
      " $ slope   : chr  \"downsloping\" \"flat\" \"flat\" \"downsloping\" ...\n",
      " $ ca      : int  0 3 2 0 0 0 2 0 1 0 ...\n",
      " $ thal    : chr  \"fixed defect\" \"normal\" \"reversable defect\" \"normal\" ...\n",
      " $ num     : int  0 1 1 0 0 0 1 0 1 1 ...\n"
     ]
    },
    {
     "data": {
      "text/html": [
       "<table class=\"dataframe\">\n",
       "<caption>A data.frame: 6 × 16</caption>\n",
       "<thead>\n",
       "\t<tr><th></th><th scope=col>id</th><th scope=col>age</th><th scope=col>sex</th><th scope=col>dataset</th><th scope=col>cp</th><th scope=col>trestbps</th><th scope=col>chol</th><th scope=col>fbs</th><th scope=col>restecg</th><th scope=col>thalch</th><th scope=col>exang</th><th scope=col>oldpeak</th><th scope=col>slope</th><th scope=col>ca</th><th scope=col>thal</th><th scope=col>num</th></tr>\n",
       "\t<tr><th></th><th scope=col>&lt;int&gt;</th><th scope=col>&lt;int&gt;</th><th scope=col>&lt;chr&gt;</th><th scope=col>&lt;chr&gt;</th><th scope=col>&lt;chr&gt;</th><th scope=col>&lt;dbl&gt;</th><th scope=col>&lt;int&gt;</th><th scope=col>&lt;lgl&gt;</th><th scope=col>&lt;chr&gt;</th><th scope=col>&lt;int&gt;</th><th scope=col>&lt;lgl&gt;</th><th scope=col>&lt;dbl&gt;</th><th scope=col>&lt;chr&gt;</th><th scope=col>&lt;int&gt;</th><th scope=col>&lt;chr&gt;</th><th scope=col>&lt;int&gt;</th></tr>\n",
       "</thead>\n",
       "<tbody>\n",
       "\t<tr><th scope=row>1</th><td>1</td><td>63</td><td>Male  </td><td>Cleveland</td><td>typical angina </td><td>145</td><td>233</td><td> TRUE</td><td>lv hypertrophy</td><td>150</td><td>FALSE</td><td>2.3</td><td>downsloping</td><td>0</td><td>fixed defect     </td><td>0</td></tr>\n",
       "\t<tr><th scope=row>2</th><td>2</td><td>67</td><td>Male  </td><td>Cleveland</td><td>asymptomatic   </td><td>160</td><td>286</td><td>FALSE</td><td>lv hypertrophy</td><td>108</td><td> TRUE</td><td>1.5</td><td>flat       </td><td>3</td><td>normal           </td><td>1</td></tr>\n",
       "\t<tr><th scope=row>3</th><td>3</td><td>67</td><td>Male  </td><td>Cleveland</td><td>asymptomatic   </td><td>120</td><td>229</td><td>FALSE</td><td>lv hypertrophy</td><td>129</td><td> TRUE</td><td>2.6</td><td>flat       </td><td>2</td><td>reversable defect</td><td>1</td></tr>\n",
       "\t<tr><th scope=row>4</th><td>4</td><td>37</td><td>Male  </td><td>Cleveland</td><td>non-anginal    </td><td>130</td><td>250</td><td>FALSE</td><td>normal        </td><td>187</td><td>FALSE</td><td>3.5</td><td>downsloping</td><td>0</td><td>normal           </td><td>0</td></tr>\n",
       "\t<tr><th scope=row>5</th><td>5</td><td>41</td><td>Female</td><td>Cleveland</td><td>atypical angina</td><td>130</td><td>204</td><td>FALSE</td><td>lv hypertrophy</td><td>172</td><td>FALSE</td><td>1.4</td><td>upsloping  </td><td>0</td><td>normal           </td><td>0</td></tr>\n",
       "\t<tr><th scope=row>6</th><td>6</td><td>56</td><td>Male  </td><td>Cleveland</td><td>atypical angina</td><td>120</td><td>236</td><td>FALSE</td><td>normal        </td><td>178</td><td>FALSE</td><td>0.8</td><td>upsloping  </td><td>0</td><td>normal           </td><td>0</td></tr>\n",
       "</tbody>\n",
       "</table>\n"
      ],
      "text/latex": [
       "A data.frame: 6 × 16\n",
       "\\begin{tabular}{r|llllllllllllllll}\n",
       "  & id & age & sex & dataset & cp & trestbps & chol & fbs & restecg & thalch & exang & oldpeak & slope & ca & thal & num\\\\\n",
       "  & <int> & <int> & <chr> & <chr> & <chr> & <dbl> & <int> & <lgl> & <chr> & <int> & <lgl> & <dbl> & <chr> & <int> & <chr> & <int>\\\\\n",
       "\\hline\n",
       "\t1 & 1 & 63 & Male   & Cleveland & typical angina  & 145 & 233 &  TRUE & lv hypertrophy & 150 & FALSE & 2.3 & downsloping & 0 & fixed defect      & 0\\\\\n",
       "\t2 & 2 & 67 & Male   & Cleveland & asymptomatic    & 160 & 286 & FALSE & lv hypertrophy & 108 &  TRUE & 1.5 & flat        & 3 & normal            & 1\\\\\n",
       "\t3 & 3 & 67 & Male   & Cleveland & asymptomatic    & 120 & 229 & FALSE & lv hypertrophy & 129 &  TRUE & 2.6 & flat        & 2 & reversable defect & 1\\\\\n",
       "\t4 & 4 & 37 & Male   & Cleveland & non-anginal     & 130 & 250 & FALSE & normal         & 187 & FALSE & 3.5 & downsloping & 0 & normal            & 0\\\\\n",
       "\t5 & 5 & 41 & Female & Cleveland & atypical angina & 130 & 204 & FALSE & lv hypertrophy & 172 & FALSE & 1.4 & upsloping   & 0 & normal            & 0\\\\\n",
       "\t6 & 6 & 56 & Male   & Cleveland & atypical angina & 120 & 236 & FALSE & normal         & 178 & FALSE & 0.8 & upsloping   & 0 & normal            & 0\\\\\n",
       "\\end{tabular}\n"
      ],
      "text/markdown": [
       "\n",
       "A data.frame: 6 × 16\n",
       "\n",
       "| <!--/--> | id &lt;int&gt; | age &lt;int&gt; | sex &lt;chr&gt; | dataset &lt;chr&gt; | cp &lt;chr&gt; | trestbps &lt;dbl&gt; | chol &lt;int&gt; | fbs &lt;lgl&gt; | restecg &lt;chr&gt; | thalch &lt;int&gt; | exang &lt;lgl&gt; | oldpeak &lt;dbl&gt; | slope &lt;chr&gt; | ca &lt;int&gt; | thal &lt;chr&gt; | num &lt;int&gt; |\n",
       "|---|---|---|---|---|---|---|---|---|---|---|---|---|---|---|---|---|\n",
       "| 1 | 1 | 63 | Male   | Cleveland | typical angina  | 145 | 233 |  TRUE | lv hypertrophy | 150 | FALSE | 2.3 | downsloping | 0 | fixed defect      | 0 |\n",
       "| 2 | 2 | 67 | Male   | Cleveland | asymptomatic    | 160 | 286 | FALSE | lv hypertrophy | 108 |  TRUE | 1.5 | flat        | 3 | normal            | 1 |\n",
       "| 3 | 3 | 67 | Male   | Cleveland | asymptomatic    | 120 | 229 | FALSE | lv hypertrophy | 129 |  TRUE | 2.6 | flat        | 2 | reversable defect | 1 |\n",
       "| 4 | 4 | 37 | Male   | Cleveland | non-anginal     | 130 | 250 | FALSE | normal         | 187 | FALSE | 3.5 | downsloping | 0 | normal            | 0 |\n",
       "| 5 | 5 | 41 | Female | Cleveland | atypical angina | 130 | 204 | FALSE | lv hypertrophy | 172 | FALSE | 1.4 | upsloping   | 0 | normal            | 0 |\n",
       "| 6 | 6 | 56 | Male   | Cleveland | atypical angina | 120 | 236 | FALSE | normal         | 178 | FALSE | 0.8 | upsloping   | 0 | normal            | 0 |\n",
       "\n"
      ],
      "text/plain": [
       "  id age sex    dataset   cp              trestbps chol fbs   restecg       \n",
       "1 1  63  Male   Cleveland typical angina  145      233   TRUE lv hypertrophy\n",
       "2 2  67  Male   Cleveland asymptomatic    160      286  FALSE lv hypertrophy\n",
       "3 3  67  Male   Cleveland asymptomatic    120      229  FALSE lv hypertrophy\n",
       "4 4  37  Male   Cleveland non-anginal     130      250  FALSE normal        \n",
       "5 5  41  Female Cleveland atypical angina 130      204  FALSE lv hypertrophy\n",
       "6 6  56  Male   Cleveland atypical angina 120      236  FALSE normal        \n",
       "  thalch exang oldpeak slope       ca thal              num\n",
       "1 150    FALSE 2.3     downsloping 0  fixed defect      0  \n",
       "2 108     TRUE 1.5     flat        3  normal            1  \n",
       "3 129     TRUE 2.6     flat        2  reversable defect 1  \n",
       "4 187    FALSE 3.5     downsloping 0  normal            0  \n",
       "5 172    FALSE 1.4     upsloping   0  normal            0  \n",
       "6 178    FALSE 0.8     upsloping   0  normal            0  "
      ]
     },
     "metadata": {},
     "output_type": "display_data"
    }
   ],
   "source": [
    "library(dplyr)\n",
    "\n",
    "\n",
    "\n",
    "mydata <- read.csv(\"/kaggle/input/heart-disease-uci-modified/heart_disease_uci - modified.csv\", header = TRUE, sep = \",\", na.strings = c(\"?\", \"\", \"NA\"))\n",
    "\n",
    "# Check structure and first few rows\n",
    "str(mydata)\n",
    "head(mydata)\n",
    "\n"
   ]
  },
  {
   "cell_type": "markdown",
   "metadata": {},
   "source": [
    "******Read & Inspect Data******"
   ]
  },
  {
   "cell_type": "markdown",
   "metadata": {},
   "source": [
    "ekhne thal er ta dekhacche na je 1 ta missing value ache.... so ami read . csv er mmdhe change anle sheta better hbemydata <- read.csv(\"/kaggle/input/heart-disease-uci-modified/heart_disease_uci - modified.csv\", header = TRUE, sep = \",\") THEKEK AMRA ETA mydata <- read.csv(\"heart_disease_uci - modified.csv\", na.strings = c(\"?\", \"\", \"NA\")) ekhne joto type er missing value thauk na kno it will covert into an NA  colSums(is.na(mydata)) TOKHN READ KORTE PARBE  \n",
    " "
   ]
  },
  {
   "cell_type": "markdown",
   "metadata": {},
   "source": [
    " Summary statistics and Count missing values in each column"
   ]
  },
  {
   "cell_type": "code",
   "execution_count": null,
   "metadata": {
    "execution": {
     "iopub.execute_input": "2025-04-23T19:47:09.666554Z",
     "iopub.status.busy": "2025-04-23T19:47:09.665073Z",
     "iopub.status.idle": "2025-04-23T19:47:09.693470Z",
     "shell.execute_reply": "2025-04-23T19:47:09.691512Z"
    },
    "trusted": true,
    "vscode": {
     "languageId": "r"
    }
   },
   "outputs": [
    {
     "data": {
      "text/plain": [
       "       id              age            sex              dataset         \n",
       " Min.   :  1.00   Min.   :29.00   Length:216         Length:216        \n",
       " 1st Qu.: 54.75   1st Qu.:48.00   Class :character   Class :character  \n",
       " Median :108.50   Median :55.00   Mode  :character   Mode  :character  \n",
       " Mean   :108.50   Mean   :54.49                                        \n",
       " 3rd Qu.:162.25   3rd Qu.:61.00                                        \n",
       " Max.   :216.00   Max.   :77.00                                        \n",
       "                  NA's   :2                                            \n",
       "      cp               trestbps          chol           fbs         \n",
       " Length:216         Min.   : 12.5   Min.   : 126.0   Mode :logical  \n",
       " Class :character   1st Qu.:120.0   1st Qu.: 216.8   FALSE:179      \n",
       " Mode  :character   Median :130.0   Median : 246.0   TRUE :37       \n",
       "                    Mean   :132.2   Mean   : 266.7                  \n",
       "                    3rd Qu.:140.0   3rd Qu.: 282.0                  \n",
       "                    Max.   :200.0   Max.   :3600.0                  \n",
       "                                                                    \n",
       "   restecg              thalch        exang            oldpeak     \n",
       " Length:216         Min.   : 88.0   Mode :logical   Min.   :0.000  \n",
       " Class :character   1st Qu.:139.0   FALSE:143       1st Qu.:0.000  \n",
       " Mode  :character   Median :154.5   TRUE :73        Median :0.800  \n",
       "                    Mean   :151.2                   Mean   :1.101  \n",
       "                    3rd Qu.:166.0                   3rd Qu.:1.650  \n",
       "                    Max.   :202.0                   Max.   :6.200  \n",
       "                                                                   \n",
       "    slope                 ca             thal                num        \n",
       " Length:216         Min.   :0.0000   Length:216         Min.   :0.0000  \n",
       " Class :character   1st Qu.:0.0000   Class :character   1st Qu.:0.0000  \n",
       " Mode  :character   Median :0.0000   Mode  :character   Median :0.0000  \n",
       "                    Mean   :0.6869                      Mean   :0.4537  \n",
       "                    3rd Qu.:1.0000                      3rd Qu.:1.0000  \n",
       "                    Max.   :3.0000                      Max.   :1.0000  \n",
       "                    NA's   :2                                           "
      ]
     },
     "metadata": {},
     "output_type": "display_data"
    },
    {
     "data": {
      "text/html": [
       "<style>\n",
       ".dl-inline {width: auto; margin:0; padding: 0}\n",
       ".dl-inline>dt, .dl-inline>dd {float: none; width: auto; display: inline-block}\n",
       ".dl-inline>dt::after {content: \":\\0020\"; padding-right: .5ex}\n",
       ".dl-inline>dt:not(:first-of-type) {padding-left: .5ex}\n",
       "</style><dl class=dl-inline><dt>id</dt><dd>0</dd><dt>age</dt><dd>2</dd><dt>sex</dt><dd>0</dd><dt>dataset</dt><dd>0</dd><dt>cp</dt><dd>0</dd><dt>trestbps</dt><dd>0</dd><dt>chol</dt><dd>0</dd><dt>fbs</dt><dd>0</dd><dt>restecg</dt><dd>0</dd><dt>thalch</dt><dd>0</dd><dt>exang</dt><dd>0</dd><dt>oldpeak</dt><dd>0</dd><dt>slope</dt><dd>0</dd><dt>ca</dt><dd>2</dd><dt>thal</dt><dd>1</dd><dt>num</dt><dd>0</dd></dl>\n"
      ],
      "text/latex": [
       "\\begin{description*}\n",
       "\\item[id] 0\n",
       "\\item[age] 2\n",
       "\\item[sex] 0\n",
       "\\item[dataset] 0\n",
       "\\item[cp] 0\n",
       "\\item[trestbps] 0\n",
       "\\item[chol] 0\n",
       "\\item[fbs] 0\n",
       "\\item[restecg] 0\n",
       "\\item[thalch] 0\n",
       "\\item[exang] 0\n",
       "\\item[oldpeak] 0\n",
       "\\item[slope] 0\n",
       "\\item[ca] 2\n",
       "\\item[thal] 1\n",
       "\\item[num] 0\n",
       "\\end{description*}\n"
      ],
      "text/markdown": [
       "id\n",
       ":   0age\n",
       ":   2sex\n",
       ":   0dataset\n",
       ":   0cp\n",
       ":   0trestbps\n",
       ":   0chol\n",
       ":   0fbs\n",
       ":   0restecg\n",
       ":   0thalch\n",
       ":   0exang\n",
       ":   0oldpeak\n",
       ":   0slope\n",
       ":   0ca\n",
       ":   2thal\n",
       ":   1num\n",
       ":   0\n",
       "\n"
      ],
      "text/plain": [
       "      id      age      sex  dataset       cp trestbps     chol      fbs \n",
       "       0        2        0        0        0        0        0        0 \n",
       " restecg   thalch    exang  oldpeak    slope       ca     thal      num \n",
       "       0        0        0        0        0        2        1        0 "
      ]
     },
     "metadata": {},
     "output_type": "display_data"
    }
   ],
   "source": [
    "\n",
    "summary(mydata)\n",
    "colSums(is.na(mydata))"
   ]
  },
  {
   "cell_type": "markdown",
   "metadata": {},
   "source": [
    "****Handling Missing Values****\n",
    "\n",
    "       1.Repeted value\n",
    "       2.Outlier ditection"
   ]
  },
  {
   "cell_type": "code",
   "execution_count": null,
   "metadata": {
    "execution": {
     "iopub.execute_input": "2025-04-23T19:47:09.697818Z",
     "iopub.status.busy": "2025-04-23T19:47:09.696303Z",
     "iopub.status.idle": "2025-04-23T19:47:09.729865Z",
     "shell.execute_reply": "2025-04-23T19:47:09.728011Z"
    },
    "trusted": true,
    "vscode": {
     "languageId": "r"
    }
   },
   "outputs": [
    {
     "name": "stdout",
     "output_type": "stream",
     "text": [
      "[1] \"Repeated values in age:\"\n",
      "\n",
      "35 37 39 40 41 42 43 44 45 46 47 48 49 50 51 52 53 54 55 56 57 58 59 60 61 62 \n",
      " 3  2  2  2  6  4  7  8  7  3  2  7  2  7 11 10  6 12  5  7 10 11 10 10  4 10 \n",
      "63 64 65 66 67 68 69 70 71 \n",
      " 7  7  8  4  5  3  3  3  2 \n",
      "[1] \"Repeated values in ca:\"\n",
      "\n",
      "  0   1   2   3 \n",
      "127  45  24  18 \n"
     ]
    }
   ],
   "source": [
    "# Show only repeated ones\n",
    "age_freq <- table(mydata$age)\n",
    "print(\"Repeated values in age:\")\n",
    "print(age_freq[age_freq > 1])  \n",
    "\n",
    "#  'ca'\n",
    "ca_freq <- table(mydata$ca)\n",
    "print(\"Repeated values in ca:\")\n",
    "print(ca_freq[ca_freq > 1])  \n"
   ]
  },
  {
   "cell_type": "markdown",
   "metadata": {},
   "source": [
    "Check outlier"
   ]
  },
  {
   "cell_type": "code",
   "execution_count": null,
   "metadata": {
    "execution": {
     "iopub.execute_input": "2025-04-23T19:47:09.734387Z",
     "iopub.status.busy": "2025-04-23T19:47:09.732759Z",
     "iopub.status.idle": "2025-04-23T19:47:09.781085Z",
     "shell.execute_reply": "2025-04-23T19:47:09.779260Z"
    },
    "trusted": true,
    "vscode": {
     "languageId": "r"
    }
   },
   "outputs": [
    {
     "name": "stdout",
     "output_type": "stream",
     "text": [
      "[1] \"Outliers in age: 0\"\n",
      "[1] \"Outliers in ca: 18\"\n"
     ]
    }
   ],
   "source": [
    "# Function to check for outliers using the IQR method\n",
    "check_outliers <- function(column) {\n",
    "  \n",
    "  column <- column[!is.na(column)]# Remove NA values before calculating Q1, Q3, IQR\n",
    "  \n",
    "  Q1 <- quantile(column, 0.25)\n",
    "  Q3 <- quantile(column, 0.75)\n",
    "  IQR <- Q3 - Q1\n",
    "  lower_bound <- Q1 - 1.5 * IQR\n",
    "  upper_bound <- Q3 + 1.5 * IQR\n",
    "  outliers <- column[column < lower_bound | column > upper_bound]\n",
    "  \n",
    "  return(outliers)\n",
    "}\n",
    "\n",
    "# Check for outliers in 'age' (after converting to numeric)\n",
    "age_outliers <- check_outliers(mydata$age)\n",
    "print(paste(\"Outliers in age:\", length(age_outliers)))\n",
    "\n",
    "# Check for outliers in 'ca'\n",
    "ca_outliers <- check_outliers(mydata$ca)\n",
    "print(paste(\"Outliers in ca:\", length(ca_outliers)))\n",
    "\n",
    "# Decide replacement method for 'age'\n",
    "if (length(age_outliers) > 0) {\n",
    "  value_age <- median(mydata$age, na.rm = TRUE)\n",
    "} else {\n",
    "  value_age <- mean(mydata$age, na.rm = TRUE)\n",
    "}\n",
    "\n",
    "# Replace missing values for 'age' with chosen value (mean or median)\n",
    "mydata$age <- ifelse(is.na(mydata$age), value_age, mydata$age)\n",
    "\n",
    "# Repeat for 'ca' column\n",
    "if (length(ca_outliers) > 0) {\n",
    "  value_ca <- median(mydata$ca, na.rm = TRUE)\n",
    "} else {\n",
    "  value_ca <- mean(mydata$ca, na.rm = TRUE)\n",
    "}\n",
    "\n",
    "# Replace missing values for 'ca' with chosen value (mean or median)\n",
    "mydata$ca <- ifelse(is.na(mydata$ca), value_ca, mydata$ca)\n"
   ]
  },
  {
   "cell_type": "markdown",
   "metadata": {},
   "source": [
    "**Replace missing value**"
   ]
  },
  {
   "cell_type": "code",
   "execution_count": null,
   "metadata": {
    "execution": {
     "iopub.execute_input": "2025-04-23T19:47:09.785554Z",
     "iopub.status.busy": "2025-04-23T19:47:09.783952Z",
     "iopub.status.idle": "2025-04-23T19:47:09.805886Z",
     "shell.execute_reply": "2025-04-23T19:47:09.804034Z"
    },
    "trusted": true,
    "vscode": {
     "languageId": "r"
    }
   },
   "outputs": [],
   "source": [
    "# Replace missing values for 'age' column with mean (since it's continuous)\n",
    "mean_age <- mean(mydata$age, na.rm = TRUE)\n",
    "mydata$age <- ifelse(is.na(mydata$age), mean_age, mydata$age)\n",
    "\n",
    "# Replace missing values in 'ca' with mode (0)  since it's discrete and 0 is dominant\n",
    "mydata$ca <- ifelse(is.na(mydata$ca), 0, mydata$ca)\n",
    "\n",
    "# Replace missing 'thal' with most frequent value (mode = \"normal\")\n",
    "mydata$thal <- ifelse(is.na(mydata$thal), \"normal\", mydata$thal)\n",
    "\n"
   ]
  },
  {
   "cell_type": "markdown",
   "metadata": {},
   "source": [
    "**FOR CHECK**"
   ]
  },
  {
   "cell_type": "code",
   "execution_count": 184,
   "metadata": {
    "execution": {
     "iopub.execute_input": "2025-04-23T19:47:09.810305Z",
     "iopub.status.busy": "2025-04-23T19:47:09.808796Z",
     "iopub.status.idle": "2025-04-23T19:47:09.855269Z",
     "shell.execute_reply": "2025-04-23T19:47:09.853421Z"
    },
    "trusted": true,
    "vscode": {
     "languageId": "r"
    }
   },
   "outputs": [
    {
     "name": "stdout",
     "output_type": "stream",
     "text": [
      "[1] \"Mode-filled version:\"\n"
     ]
    },
    {
     "data": {
      "text/plain": [
       "   Min. 1st Qu.  Median    Mean 3rd Qu.    Max. \n",
       " 0.0000  0.0000  0.0000  0.6806  1.0000  3.0000 "
      ]
     },
     "metadata": {},
     "output_type": "display_data"
    },
    {
     "name": "stdout",
     "output_type": "stream",
     "text": [
      "[1] \"Mean-filled version:\"\n"
     ]
    },
    {
     "data": {
      "text/plain": [
       "   Min. 1st Qu.  Median    Mean 3rd Qu.    Max. \n",
       " 0.0000  0.0000  0.0000  0.6806  1.0000  3.0000 "
      ]
     },
     "metadata": {},
     "output_type": "display_data"
    }
   ],
   "source": [
    "# Step 1: Make two versions of your dataset\n",
    "mydata_mode <- mydata\n",
    "mydata_mean <- mydata\n",
    "\n",
    "# Step 2: Fill missing 'ca' with mode (0)\n",
    "mydata_mode$ca <- ifelse(is.na(mydata_mode$ca), 0, mydata_mode$ca)\n",
    "\n",
    "# Step 3: Fill missing 'ca' with mean\n",
    "mean_ca <- mean(mydata$ca, na.rm = TRUE)\n",
    "mydata_mean$ca <- ifelse(is.na(mydata_mean$ca), mean_ca, mydata_mean$ca)\n",
    "\n",
    "# Step 4: Compare summaries\n",
    "print(\"Mode-filled version:\")\n",
    "summary(mydata_mode$ca)\n",
    "\n",
    "print(\"Mean-filled version:\")\n",
    "summary(mydata_mean$ca)\n"
   ]
  },
  {
   "cell_type": "markdown",
   "metadata": {},
   "source": [
    "**Convert age and thal to cata**"
   ]
  },
  {
   "cell_type": "code",
   "execution_count": 185,
   "metadata": {
    "execution": {
     "iopub.execute_input": "2025-04-23T19:47:09.859426Z",
     "iopub.status.busy": "2025-04-23T19:47:09.857978Z",
     "iopub.status.idle": "2025-04-23T19:47:09.905793Z",
     "shell.execute_reply": "2025-04-23T19:47:09.903892Z"
    },
    "trusted": true,
    "vscode": {
     "languageId": "r"
    }
   },
   "outputs": [
    {
     "data": {
      "text/html": [
       "<table class=\"dataframe\">\n",
       "<caption>A data.frame: 6 × 4</caption>\n",
       "<thead>\n",
       "\t<tr><th></th><th scope=col>age</th><th scope=col>age_category</th><th scope=col>thal</th><th scope=col>thal_numeric</th></tr>\n",
       "\t<tr><th></th><th scope=col>&lt;dbl&gt;</th><th scope=col>&lt;chr&gt;</th><th scope=col>&lt;chr&gt;</th><th scope=col>&lt;dbl&gt;</th></tr>\n",
       "</thead>\n",
       "<tbody>\n",
       "\t<tr><th scope=row>1</th><td>63</td><td>old        </td><td>fixed defect     </td><td>2</td></tr>\n",
       "\t<tr><th scope=row>2</th><td>67</td><td>old        </td><td>normal           </td><td>1</td></tr>\n",
       "\t<tr><th scope=row>3</th><td>67</td><td>old        </td><td>reversable defect</td><td>3</td></tr>\n",
       "\t<tr><th scope=row>4</th><td>37</td><td>middle-aged</td><td>normal           </td><td>1</td></tr>\n",
       "\t<tr><th scope=row>5</th><td>41</td><td>middle-aged</td><td>normal           </td><td>1</td></tr>\n",
       "\t<tr><th scope=row>6</th><td>56</td><td>middle-aged</td><td>normal           </td><td>1</td></tr>\n",
       "</tbody>\n",
       "</table>\n"
      ],
      "text/latex": [
       "A data.frame: 6 × 4\n",
       "\\begin{tabular}{r|llll}\n",
       "  & age & age\\_category & thal & thal\\_numeric\\\\\n",
       "  & <dbl> & <chr> & <chr> & <dbl>\\\\\n",
       "\\hline\n",
       "\t1 & 63 & old         & fixed defect      & 2\\\\\n",
       "\t2 & 67 & old         & normal            & 1\\\\\n",
       "\t3 & 67 & old         & reversable defect & 3\\\\\n",
       "\t4 & 37 & middle-aged & normal            & 1\\\\\n",
       "\t5 & 41 & middle-aged & normal            & 1\\\\\n",
       "\t6 & 56 & middle-aged & normal            & 1\\\\\n",
       "\\end{tabular}\n"
      ],
      "text/markdown": [
       "\n",
       "A data.frame: 6 × 4\n",
       "\n",
       "| <!--/--> | age &lt;dbl&gt; | age_category &lt;chr&gt; | thal &lt;chr&gt; | thal_numeric &lt;dbl&gt; |\n",
       "|---|---|---|---|---|\n",
       "| 1 | 63 | old         | fixed defect      | 2 |\n",
       "| 2 | 67 | old         | normal            | 1 |\n",
       "| 3 | 67 | old         | reversable defect | 3 |\n",
       "| 4 | 37 | middle-aged | normal            | 1 |\n",
       "| 5 | 41 | middle-aged | normal            | 1 |\n",
       "| 6 | 56 | middle-aged | normal            | 1 |\n",
       "\n"
      ],
      "text/plain": [
       "  age age_category thal              thal_numeric\n",
       "1 63  old          fixed defect      2           \n",
       "2 67  old          normal            1           \n",
       "3 67  old          reversable defect 3           \n",
       "4 37  middle-aged  normal            1           \n",
       "5 41  middle-aged  normal            1           \n",
       "6 56  middle-aged  normal            1           "
      ]
     },
     "metadata": {},
     "output_type": "display_data"
    },
    {
     "data": {
      "text/html": [
       "<table class=\"dataframe\">\n",
       "<caption>A data.frame: 6 × 2</caption>\n",
       "<thead>\n",
       "\t<tr><th></th><th scope=col>age</th><th scope=col>thal</th></tr>\n",
       "\t<tr><th></th><th scope=col>&lt;chr&gt;</th><th scope=col>&lt;dbl&gt;</th></tr>\n",
       "</thead>\n",
       "<tbody>\n",
       "\t<tr><th scope=row>1</th><td>old        </td><td>2</td></tr>\n",
       "\t<tr><th scope=row>2</th><td>old        </td><td>1</td></tr>\n",
       "\t<tr><th scope=row>3</th><td>old        </td><td>3</td></tr>\n",
       "\t<tr><th scope=row>4</th><td>middle-aged</td><td>1</td></tr>\n",
       "\t<tr><th scope=row>5</th><td>middle-aged</td><td>1</td></tr>\n",
       "\t<tr><th scope=row>6</th><td>middle-aged</td><td>1</td></tr>\n",
       "</tbody>\n",
       "</table>\n"
      ],
      "text/latex": [
       "A data.frame: 6 × 2\n",
       "\\begin{tabular}{r|ll}\n",
       "  & age & thal\\\\\n",
       "  & <chr> & <dbl>\\\\\n",
       "\\hline\n",
       "\t1 & old         & 2\\\\\n",
       "\t2 & old         & 1\\\\\n",
       "\t3 & old         & 3\\\\\n",
       "\t4 & middle-aged & 1\\\\\n",
       "\t5 & middle-aged & 1\\\\\n",
       "\t6 & middle-aged & 1\\\\\n",
       "\\end{tabular}\n"
      ],
      "text/markdown": [
       "\n",
       "A data.frame: 6 × 2\n",
       "\n",
       "| <!--/--> | age &lt;chr&gt; | thal &lt;dbl&gt; |\n",
       "|---|---|---|\n",
       "| 1 | old         | 2 |\n",
       "| 2 | old         | 1 |\n",
       "| 3 | old         | 3 |\n",
       "| 4 | middle-aged | 1 |\n",
       "| 5 | middle-aged | 1 |\n",
       "| 6 | middle-aged | 1 |\n",
       "\n"
      ],
      "text/plain": [
       "  age         thal\n",
       "1 old         2   \n",
       "2 old         1   \n",
       "3 old         3   \n",
       "4 middle-aged 1   \n",
       "5 middle-aged 1   \n",
       "6 middle-aged 1   "
      ]
     },
     "metadata": {},
     "output_type": "display_data"
    }
   ],
   "source": [
    "# Convert 'age' to categorical (young, middle-aged, old)\n",
    "mydata$age_category <- ifelse(mydata$age <= 30, \"young\", \n",
    "                              ifelse(mydata$age <= 60, \"middle-aged\", \"old\"))\n",
    "\n",
    "# Convert 'thal' to numeric (1 = normal, 2 = fixed defect, 3 = reversable defect)\n",
    "mydata$thal_numeric <- ifelse(mydata$thal == \"normal\", 1, \n",
    "                              ifelse(mydata$thal == \"fixed defect\", 2, 3))\n",
    "\n",
    "\n",
    "\n",
    "head(mydata[, c(\"age\", \"age_category\", \"thal\", \"thal_numeric\")])\n",
    "\n",
    "# Convert 'age' to categorical (young, middle-aged, old)\n",
    "mydata$age <- ifelse(mydata$age <= 30, \"young\", \n",
    "                     ifelse(mydata$age <= 60, \"middle-aged\", \"old\"))\n",
    "\n",
    "# Convert 'thal' to numeric (1 = normal, 2 = fixed defect, 3 = reversable defect)\n",
    "mydata$thal <- ifelse(mydata$thal == \"normal\", 1, \n",
    "                      ifelse(mydata$thal == \"fixed defect\", 2, 3))\n",
    "\n",
    "# Verify the changes by checking the first few rows of the updated dataframe\n",
    "head(mydata[, c(\"age\", \"thal\")])\n",
    "\n"
   ]
  },
  {
   "cell_type": "markdown",
   "metadata": {},
   "source": [
    "**Normalization for 'trestbps', 'chol', 'thalch'**"
   ]
  },
  {
   "cell_type": "code",
   "execution_count": 186,
   "metadata": {
    "execution": {
     "iopub.execute_input": "2025-04-23T19:47:09.911285Z",
     "iopub.status.busy": "2025-04-23T19:47:09.909803Z",
     "iopub.status.idle": "2025-04-23T19:47:09.950072Z",
     "shell.execute_reply": "2025-04-23T19:47:09.948235Z"
    },
    "trusted": true,
    "vscode": {
     "languageId": "r"
    }
   },
   "outputs": [
    {
     "data": {
      "text/plain": [
       "   Min. 1st Qu.  Median    Mean 3rd Qu.    Max. \n",
       " 0.0000  0.5733  0.6267  0.6382  0.6800  1.0000 "
      ]
     },
     "metadata": {},
     "output_type": "display_data"
    },
    {
     "data": {
      "text/plain": [
       "   Min. 1st Qu.  Median    Mean 3rd Qu.    Max. \n",
       "0.00000 0.02612 0.03454 0.04050 0.04491 1.00000 "
      ]
     },
     "metadata": {},
     "output_type": "display_data"
    },
    {
     "data": {
      "text/plain": [
       "   Min. 1st Qu.  Median    Mean 3rd Qu.    Max. \n",
       " 0.0000  0.4474  0.5833  0.5540  0.6842  1.0000 "
      ]
     },
     "metadata": {},
     "output_type": "display_data"
    }
   ],
   "source": [
    "\n",
    "mydata$trestbps_normalized <- (mydata$trestbps - min(mydata$trestbps, na.rm = TRUE)) / \n",
    "                              (max(mydata$trestbps, na.rm = TRUE) - min(mydata$trestbps, na.rm = TRUE))\n",
    "\n",
    "mydata$chol_normalized <- (mydata$chol - min(mydata$chol, na.rm = TRUE)) / \n",
    "                          (max(mydata$chol, na.rm = TRUE) - min(mydata$chol, na.rm = TRUE))\n",
    "\n",
    "mydata$thalch_normalized <- (mydata$thalch - min(mydata$thalch, na.rm = TRUE)) / \n",
    "                            (max(mydata$thalch, na.rm = TRUE) - min(mydata$thalch, na.rm = TRUE))\n",
    "\n",
    "mydata$oldpeak_normalized <- (mydata$oldpeak - min(mydata$oldpeak, na.rm = TRUE)) / \n",
    "                             (max(mydata$oldpeak, na.rm = TRUE) - min(mydata$oldpeak, na.rm = TRUE))\n",
    "\n",
    "\n",
    "summary(mydata$trestbps_normalized)\n",
    "summary(mydata$chol_normalized)\n",
    "summary(mydata$thalch_normalized)\n",
    "\n",
    "\n"
   ]
  },
  {
   "cell_type": "markdown",
   "metadata": {},
   "source": [
    "**Remove duplicate rows**"
   ]
  },
  {
   "cell_type": "code",
   "execution_count": 187,
   "metadata": {
    "execution": {
     "iopub.execute_input": "2025-04-23T19:47:09.955534Z",
     "iopub.status.busy": "2025-04-23T19:47:09.954015Z",
     "iopub.status.idle": "2025-04-23T19:47:09.978004Z",
     "shell.execute_reply": "2025-04-23T19:47:09.975569Z"
    },
    "trusted": true,
    "vscode": {
     "languageId": "r"
    }
   },
   "outputs": [
    {
     "data": {
      "text/html": [
       "216"
      ],
      "text/latex": [
       "216"
      ],
      "text/markdown": [
       "216"
      ],
      "text/plain": [
       "[1] 216"
      ]
     },
     "metadata": {},
     "output_type": "display_data"
    }
   ],
   "source": [
    "mydata_no_duplicates <- mydata[!duplicated(mydata), ]\n",
    "# Check the result\n",
    "nrow(mydata_no_duplicates)"
   ]
  },
  {
   "cell_type": "markdown",
   "metadata": {},
   "source": [
    "*FILter id*"
   ]
  },
  {
   "cell_type": "code",
   "execution_count": null,
   "metadata": {
    "trusted": true,
    "vscode": {
     "languageId": "r"
    }
   },
   "outputs": [],
   "source": [
    "\n",
    "\n",
    "\n"
   ]
  },
  {
   "cell_type": "markdown",
   "metadata": {},
   "source": []
  },
  {
   "cell_type": "code",
   "execution_count": 188,
   "metadata": {
    "execution": {
     "iopub.execute_input": "2025-04-23T19:47:09.983525Z",
     "iopub.status.busy": "2025-04-23T19:47:09.982046Z",
     "iopub.status.idle": "2025-04-23T19:47:10.006193Z",
     "shell.execute_reply": "2025-04-23T19:47:10.003773Z"
    },
    "trusted": true,
    "vscode": {
     "languageId": "r"
    }
   },
   "outputs": [
    {
     "data": {
      "text/plain": [
       "\n",
       "middle-aged         old       young \n",
       "        158          57           1 "
      ]
     },
     "metadata": {},
     "output_type": "display_data"
    }
   ],
   "source": [
    "# Check if 'age_category' column has valid categories\n",
    "valid_age_categories <- c(\"young\", \"middle-aged\", \"old\")\n",
    "\n",
    "# Replace invalid 'age_category' values with NA (if any unexpected categories exist)\n",
    "mydata$age_category[!(mydata$age_category %in% valid_age_categories)] <- NA  # Invalid age categories\n",
    "\n",
    "# Check the result\n",
    "table(mydata$age_category)  # Check if there are any invalid values\n"
   ]
  },
  {
   "cell_type": "code",
   "execution_count": 189,
   "metadata": {
    "execution": {
     "iopub.execute_input": "2025-04-23T19:47:10.011695Z",
     "iopub.status.busy": "2025-04-23T19:47:10.010159Z",
     "iopub.status.idle": "2025-04-23T19:47:10.058531Z",
     "shell.execute_reply": "2025-04-23T19:47:10.056048Z"
    },
    "trusted": true,
    "vscode": {
     "languageId": "r"
    }
   },
   "outputs": [
    {
     "data": {
      "text/html": [
       "<table class=\"dataframe\">\n",
       "<caption>A data.frame: 6 × 22</caption>\n",
       "<thead>\n",
       "\t<tr><th></th><th scope=col>id</th><th scope=col>age</th><th scope=col>sex</th><th scope=col>dataset</th><th scope=col>cp</th><th scope=col>trestbps</th><th scope=col>chol</th><th scope=col>fbs</th><th scope=col>restecg</th><th scope=col>thalch</th><th scope=col>⋯</th><th scope=col>slope</th><th scope=col>ca</th><th scope=col>thal</th><th scope=col>num</th><th scope=col>age_category</th><th scope=col>thal_numeric</th><th scope=col>trestbps_normalized</th><th scope=col>chol_normalized</th><th scope=col>thalch_normalized</th><th scope=col>oldpeak_normalized</th></tr>\n",
       "\t<tr><th></th><th scope=col>&lt;int&gt;</th><th scope=col>&lt;chr&gt;</th><th scope=col>&lt;chr&gt;</th><th scope=col>&lt;chr&gt;</th><th scope=col>&lt;chr&gt;</th><th scope=col>&lt;dbl&gt;</th><th scope=col>&lt;int&gt;</th><th scope=col>&lt;lgl&gt;</th><th scope=col>&lt;chr&gt;</th><th scope=col>&lt;int&gt;</th><th scope=col>⋯</th><th scope=col>&lt;chr&gt;</th><th scope=col>&lt;dbl&gt;</th><th scope=col>&lt;dbl&gt;</th><th scope=col>&lt;int&gt;</th><th scope=col>&lt;chr&gt;</th><th scope=col>&lt;dbl&gt;</th><th scope=col>&lt;dbl&gt;</th><th scope=col>&lt;dbl&gt;</th><th scope=col>&lt;dbl&gt;</th><th scope=col>&lt;dbl&gt;</th></tr>\n",
       "</thead>\n",
       "<tbody>\n",
       "\t<tr><th scope=row>1</th><td>1</td><td>old        </td><td>Male  </td><td>Cleveland</td><td>typical angina </td><td>145</td><td>233</td><td> TRUE</td><td>lv hypertrophy</td><td>150</td><td>⋯</td><td>downsloping</td><td>0</td><td>2</td><td>0</td><td>old        </td><td>2</td><td>0.7066667</td><td>0.03080023</td><td>0.5438596</td><td>0.3709677</td></tr>\n",
       "\t<tr><th scope=row>2</th><td>2</td><td>old        </td><td>Male  </td><td>Cleveland</td><td>asymptomatic   </td><td>160</td><td>286</td><td>FALSE</td><td>lv hypertrophy</td><td>108</td><td>⋯</td><td>flat       </td><td>3</td><td>1</td><td>1</td><td>old        </td><td>1</td><td>0.7866667</td><td>0.04605642</td><td>0.1754386</td><td>0.2419355</td></tr>\n",
       "\t<tr><th scope=row>3</th><td>3</td><td>old        </td><td>Male  </td><td>Cleveland</td><td>asymptomatic   </td><td>120</td><td>229</td><td>FALSE</td><td>lv hypertrophy</td><td>129</td><td>⋯</td><td>flat       </td><td>2</td><td>3</td><td>1</td><td>old        </td><td>3</td><td>0.5733333</td><td>0.02964882</td><td>0.3596491</td><td>0.4193548</td></tr>\n",
       "\t<tr><th scope=row>4</th><td>4</td><td>middle-aged</td><td>Male  </td><td>Cleveland</td><td>non-anginal    </td><td>130</td><td>250</td><td>FALSE</td><td>normal        </td><td>187</td><td>⋯</td><td>downsloping</td><td>0</td><td>1</td><td>0</td><td>middle-aged</td><td>1</td><td>0.6266667</td><td>0.03569372</td><td>0.8684211</td><td>0.5645161</td></tr>\n",
       "\t<tr><th scope=row>5</th><td>5</td><td>middle-aged</td><td>Female</td><td>Cleveland</td><td>atypical angina</td><td>130</td><td>204</td><td>FALSE</td><td>lv hypertrophy</td><td>172</td><td>⋯</td><td>upsloping  </td><td>0</td><td>1</td><td>0</td><td>middle-aged</td><td>1</td><td>0.6266667</td><td>0.02245250</td><td>0.7368421</td><td>0.2258065</td></tr>\n",
       "\t<tr><th scope=row>6</th><td>6</td><td>middle-aged</td><td>Male  </td><td>Cleveland</td><td>atypical angina</td><td>120</td><td>236</td><td>FALSE</td><td>normal        </td><td>178</td><td>⋯</td><td>upsloping  </td><td>0</td><td>1</td><td>0</td><td>middle-aged</td><td>1</td><td>0.5733333</td><td>0.03166379</td><td>0.7894737</td><td>0.1290323</td></tr>\n",
       "</tbody>\n",
       "</table>\n"
      ],
      "text/latex": [
       "A data.frame: 6 × 22\n",
       "\\begin{tabular}{r|lllllllllllllllllllll}\n",
       "  & id & age & sex & dataset & cp & trestbps & chol & fbs & restecg & thalch & ⋯ & slope & ca & thal & num & age\\_category & thal\\_numeric & trestbps\\_normalized & chol\\_normalized & thalch\\_normalized & oldpeak\\_normalized\\\\\n",
       "  & <int> & <chr> & <chr> & <chr> & <chr> & <dbl> & <int> & <lgl> & <chr> & <int> & ⋯ & <chr> & <dbl> & <dbl> & <int> & <chr> & <dbl> & <dbl> & <dbl> & <dbl> & <dbl>\\\\\n",
       "\\hline\n",
       "\t1 & 1 & old         & Male   & Cleveland & typical angina  & 145 & 233 &  TRUE & lv hypertrophy & 150 & ⋯ & downsloping & 0 & 2 & 0 & old         & 2 & 0.7066667 & 0.03080023 & 0.5438596 & 0.3709677\\\\\n",
       "\t2 & 2 & old         & Male   & Cleveland & asymptomatic    & 160 & 286 & FALSE & lv hypertrophy & 108 & ⋯ & flat        & 3 & 1 & 1 & old         & 1 & 0.7866667 & 0.04605642 & 0.1754386 & 0.2419355\\\\\n",
       "\t3 & 3 & old         & Male   & Cleveland & asymptomatic    & 120 & 229 & FALSE & lv hypertrophy & 129 & ⋯ & flat        & 2 & 3 & 1 & old         & 3 & 0.5733333 & 0.02964882 & 0.3596491 & 0.4193548\\\\\n",
       "\t4 & 4 & middle-aged & Male   & Cleveland & non-anginal     & 130 & 250 & FALSE & normal         & 187 & ⋯ & downsloping & 0 & 1 & 0 & middle-aged & 1 & 0.6266667 & 0.03569372 & 0.8684211 & 0.5645161\\\\\n",
       "\t5 & 5 & middle-aged & Female & Cleveland & atypical angina & 130 & 204 & FALSE & lv hypertrophy & 172 & ⋯ & upsloping   & 0 & 1 & 0 & middle-aged & 1 & 0.6266667 & 0.02245250 & 0.7368421 & 0.2258065\\\\\n",
       "\t6 & 6 & middle-aged & Male   & Cleveland & atypical angina & 120 & 236 & FALSE & normal         & 178 & ⋯ & upsloping   & 0 & 1 & 0 & middle-aged & 1 & 0.5733333 & 0.03166379 & 0.7894737 & 0.1290323\\\\\n",
       "\\end{tabular}\n"
      ],
      "text/markdown": [
       "\n",
       "A data.frame: 6 × 22\n",
       "\n",
       "| <!--/--> | id &lt;int&gt; | age &lt;chr&gt; | sex &lt;chr&gt; | dataset &lt;chr&gt; | cp &lt;chr&gt; | trestbps &lt;dbl&gt; | chol &lt;int&gt; | fbs &lt;lgl&gt; | restecg &lt;chr&gt; | thalch &lt;int&gt; | ⋯ ⋯ | slope &lt;chr&gt; | ca &lt;dbl&gt; | thal &lt;dbl&gt; | num &lt;int&gt; | age_category &lt;chr&gt; | thal_numeric &lt;dbl&gt; | trestbps_normalized &lt;dbl&gt; | chol_normalized &lt;dbl&gt; | thalch_normalized &lt;dbl&gt; | oldpeak_normalized &lt;dbl&gt; |\n",
       "|---|---|---|---|---|---|---|---|---|---|---|---|---|---|---|---|---|---|---|---|---|---|\n",
       "| 1 | 1 | old         | Male   | Cleveland | typical angina  | 145 | 233 |  TRUE | lv hypertrophy | 150 | ⋯ | downsloping | 0 | 2 | 0 | old         | 2 | 0.7066667 | 0.03080023 | 0.5438596 | 0.3709677 |\n",
       "| 2 | 2 | old         | Male   | Cleveland | asymptomatic    | 160 | 286 | FALSE | lv hypertrophy | 108 | ⋯ | flat        | 3 | 1 | 1 | old         | 1 | 0.7866667 | 0.04605642 | 0.1754386 | 0.2419355 |\n",
       "| 3 | 3 | old         | Male   | Cleveland | asymptomatic    | 120 | 229 | FALSE | lv hypertrophy | 129 | ⋯ | flat        | 2 | 3 | 1 | old         | 3 | 0.5733333 | 0.02964882 | 0.3596491 | 0.4193548 |\n",
       "| 4 | 4 | middle-aged | Male   | Cleveland | non-anginal     | 130 | 250 | FALSE | normal         | 187 | ⋯ | downsloping | 0 | 1 | 0 | middle-aged | 1 | 0.6266667 | 0.03569372 | 0.8684211 | 0.5645161 |\n",
       "| 5 | 5 | middle-aged | Female | Cleveland | atypical angina | 130 | 204 | FALSE | lv hypertrophy | 172 | ⋯ | upsloping   | 0 | 1 | 0 | middle-aged | 1 | 0.6266667 | 0.02245250 | 0.7368421 | 0.2258065 |\n",
       "| 6 | 6 | middle-aged | Male   | Cleveland | atypical angina | 120 | 236 | FALSE | normal         | 178 | ⋯ | upsloping   | 0 | 1 | 0 | middle-aged | 1 | 0.5733333 | 0.03166379 | 0.7894737 | 0.1290323 |\n",
       "\n"
      ],
      "text/plain": [
       "  id age         sex    dataset   cp              trestbps chol fbs  \n",
       "1 1  old         Male   Cleveland typical angina  145      233   TRUE\n",
       "2 2  old         Male   Cleveland asymptomatic    160      286  FALSE\n",
       "3 3  old         Male   Cleveland asymptomatic    120      229  FALSE\n",
       "4 4  middle-aged Male   Cleveland non-anginal     130      250  FALSE\n",
       "5 5  middle-aged Female Cleveland atypical angina 130      204  FALSE\n",
       "6 6  middle-aged Male   Cleveland atypical angina 120      236  FALSE\n",
       "  restecg        thalch ⋯ slope       ca thal num age_category thal_numeric\n",
       "1 lv hypertrophy 150    ⋯ downsloping 0  2    0   old          2           \n",
       "2 lv hypertrophy 108    ⋯ flat        3  1    1   old          1           \n",
       "3 lv hypertrophy 129    ⋯ flat        2  3    1   old          3           \n",
       "4 normal         187    ⋯ downsloping 0  1    0   middle-aged  1           \n",
       "5 lv hypertrophy 172    ⋯ upsloping   0  1    0   middle-aged  1           \n",
       "6 normal         178    ⋯ upsloping   0  1    0   middle-aged  1           \n",
       "  trestbps_normalized chol_normalized thalch_normalized oldpeak_normalized\n",
       "1 0.7066667           0.03080023      0.5438596         0.3709677         \n",
       "2 0.7866667           0.04605642      0.1754386         0.2419355         \n",
       "3 0.5733333           0.02964882      0.3596491         0.4193548         \n",
       "4 0.6266667           0.03569372      0.8684211         0.5645161         \n",
       "5 0.6266667           0.02245250      0.7368421         0.2258065         \n",
       "6 0.5733333           0.03166379      0.7894737         0.1290323         "
      ]
     },
     "metadata": {},
     "output_type": "display_data"
    }
   ],
   "source": [
    "head(mydata)\n"
   ]
  },
  {
   "cell_type": "code",
   "execution_count": 190,
   "metadata": {
    "execution": {
     "iopub.execute_input": "2025-04-23T19:47:10.063913Z",
     "iopub.status.busy": "2025-04-23T19:47:10.062445Z",
     "iopub.status.idle": "2025-04-23T19:47:10.102544Z",
     "shell.execute_reply": "2025-04-23T19:47:10.099802Z"
    },
    "trusted": true,
    "vscode": {
     "languageId": "r"
    }
   },
   "outputs": [
    {
     "data": {
      "text/html": [
       "<table class=\"dataframe\">\n",
       "<caption>A data.frame: 6 × 22</caption>\n",
       "<thead>\n",
       "\t<tr><th></th><th scope=col>id</th><th scope=col>age</th><th scope=col>sex</th><th scope=col>dataset</th><th scope=col>cp</th><th scope=col>trestbps</th><th scope=col>chol</th><th scope=col>fbs</th><th scope=col>restecg</th><th scope=col>thalch</th><th scope=col>⋯</th><th scope=col>slope</th><th scope=col>ca</th><th scope=col>thal</th><th scope=col>num</th><th scope=col>age_category</th><th scope=col>thal_numeric</th><th scope=col>trestbps_normalized</th><th scope=col>chol_normalized</th><th scope=col>thalch_normalized</th><th scope=col>oldpeak_normalized</th></tr>\n",
       "\t<tr><th></th><th scope=col>&lt;int&gt;</th><th scope=col>&lt;chr&gt;</th><th scope=col>&lt;chr&gt;</th><th scope=col>&lt;chr&gt;</th><th scope=col>&lt;chr&gt;</th><th scope=col>&lt;dbl&gt;</th><th scope=col>&lt;int&gt;</th><th scope=col>&lt;lgl&gt;</th><th scope=col>&lt;chr&gt;</th><th scope=col>&lt;int&gt;</th><th scope=col>⋯</th><th scope=col>&lt;chr&gt;</th><th scope=col>&lt;dbl&gt;</th><th scope=col>&lt;dbl&gt;</th><th scope=col>&lt;int&gt;</th><th scope=col>&lt;chr&gt;</th><th scope=col>&lt;dbl&gt;</th><th scope=col>&lt;dbl&gt;</th><th scope=col>&lt;dbl&gt;</th><th scope=col>&lt;dbl&gt;</th><th scope=col>&lt;dbl&gt;</th></tr>\n",
       "</thead>\n",
       "<tbody>\n",
       "\t<tr><th scope=row>1</th><td>1</td><td>old        </td><td>Male  </td><td>Cleveland</td><td>typical angina </td><td>145</td><td>233</td><td> TRUE</td><td>lv hypertrophy</td><td>150</td><td>⋯</td><td>downsloping</td><td>0</td><td>2</td><td>0</td><td>old        </td><td>2</td><td>0.7066667</td><td>0.03080023</td><td>0.5438596</td><td>0.3709677</td></tr>\n",
       "\t<tr><th scope=row>2</th><td>2</td><td>old        </td><td>Male  </td><td>Cleveland</td><td>asymptomatic   </td><td>160</td><td>286</td><td>FALSE</td><td>lv hypertrophy</td><td>108</td><td>⋯</td><td>flat       </td><td>3</td><td>1</td><td>1</td><td>old        </td><td>1</td><td>0.7866667</td><td>0.04605642</td><td>0.1754386</td><td>0.2419355</td></tr>\n",
       "\t<tr><th scope=row>3</th><td>3</td><td>old        </td><td>Male  </td><td>Cleveland</td><td>asymptomatic   </td><td>120</td><td>229</td><td>FALSE</td><td>lv hypertrophy</td><td>129</td><td>⋯</td><td>flat       </td><td>2</td><td>3</td><td>1</td><td>old        </td><td>3</td><td>0.5733333</td><td>0.02964882</td><td>0.3596491</td><td>0.4193548</td></tr>\n",
       "\t<tr><th scope=row>4</th><td>4</td><td>middle-aged</td><td>Male  </td><td>Cleveland</td><td>non-anginal    </td><td>130</td><td>250</td><td>FALSE</td><td>normal        </td><td>187</td><td>⋯</td><td>downsloping</td><td>0</td><td>1</td><td>0</td><td>middle-aged</td><td>1</td><td>0.6266667</td><td>0.03569372</td><td>0.8684211</td><td>0.5645161</td></tr>\n",
       "\t<tr><th scope=row>5</th><td>5</td><td>middle-aged</td><td>Female</td><td>Cleveland</td><td>atypical angina</td><td>130</td><td>204</td><td>FALSE</td><td>lv hypertrophy</td><td>172</td><td>⋯</td><td>upsloping  </td><td>0</td><td>1</td><td>0</td><td>middle-aged</td><td>1</td><td>0.6266667</td><td>0.02245250</td><td>0.7368421</td><td>0.2258065</td></tr>\n",
       "\t<tr><th scope=row>6</th><td>6</td><td>middle-aged</td><td>Male  </td><td>Cleveland</td><td>atypical angina</td><td>120</td><td>236</td><td>FALSE</td><td>normal        </td><td>178</td><td>⋯</td><td>upsloping  </td><td>0</td><td>1</td><td>0</td><td>middle-aged</td><td>1</td><td>0.5733333</td><td>0.03166379</td><td>0.7894737</td><td>0.1290323</td></tr>\n",
       "</tbody>\n",
       "</table>\n"
      ],
      "text/latex": [
       "A data.frame: 6 × 22\n",
       "\\begin{tabular}{r|lllllllllllllllllllll}\n",
       "  & id & age & sex & dataset & cp & trestbps & chol & fbs & restecg & thalch & ⋯ & slope & ca & thal & num & age\\_category & thal\\_numeric & trestbps\\_normalized & chol\\_normalized & thalch\\_normalized & oldpeak\\_normalized\\\\\n",
       "  & <int> & <chr> & <chr> & <chr> & <chr> & <dbl> & <int> & <lgl> & <chr> & <int> & ⋯ & <chr> & <dbl> & <dbl> & <int> & <chr> & <dbl> & <dbl> & <dbl> & <dbl> & <dbl>\\\\\n",
       "\\hline\n",
       "\t1 & 1 & old         & Male   & Cleveland & typical angina  & 145 & 233 &  TRUE & lv hypertrophy & 150 & ⋯ & downsloping & 0 & 2 & 0 & old         & 2 & 0.7066667 & 0.03080023 & 0.5438596 & 0.3709677\\\\\n",
       "\t2 & 2 & old         & Male   & Cleveland & asymptomatic    & 160 & 286 & FALSE & lv hypertrophy & 108 & ⋯ & flat        & 3 & 1 & 1 & old         & 1 & 0.7866667 & 0.04605642 & 0.1754386 & 0.2419355\\\\\n",
       "\t3 & 3 & old         & Male   & Cleveland & asymptomatic    & 120 & 229 & FALSE & lv hypertrophy & 129 & ⋯ & flat        & 2 & 3 & 1 & old         & 3 & 0.5733333 & 0.02964882 & 0.3596491 & 0.4193548\\\\\n",
       "\t4 & 4 & middle-aged & Male   & Cleveland & non-anginal     & 130 & 250 & FALSE & normal         & 187 & ⋯ & downsloping & 0 & 1 & 0 & middle-aged & 1 & 0.6266667 & 0.03569372 & 0.8684211 & 0.5645161\\\\\n",
       "\t5 & 5 & middle-aged & Female & Cleveland & atypical angina & 130 & 204 & FALSE & lv hypertrophy & 172 & ⋯ & upsloping   & 0 & 1 & 0 & middle-aged & 1 & 0.6266667 & 0.02245250 & 0.7368421 & 0.2258065\\\\\n",
       "\t6 & 6 & middle-aged & Male   & Cleveland & atypical angina & 120 & 236 & FALSE & normal         & 178 & ⋯ & upsloping   & 0 & 1 & 0 & middle-aged & 1 & 0.5733333 & 0.03166379 & 0.7894737 & 0.1290323\\\\\n",
       "\\end{tabular}\n"
      ],
      "text/markdown": [
       "\n",
       "A data.frame: 6 × 22\n",
       "\n",
       "| <!--/--> | id &lt;int&gt; | age &lt;chr&gt; | sex &lt;chr&gt; | dataset &lt;chr&gt; | cp &lt;chr&gt; | trestbps &lt;dbl&gt; | chol &lt;int&gt; | fbs &lt;lgl&gt; | restecg &lt;chr&gt; | thalch &lt;int&gt; | ⋯ ⋯ | slope &lt;chr&gt; | ca &lt;dbl&gt; | thal &lt;dbl&gt; | num &lt;int&gt; | age_category &lt;chr&gt; | thal_numeric &lt;dbl&gt; | trestbps_normalized &lt;dbl&gt; | chol_normalized &lt;dbl&gt; | thalch_normalized &lt;dbl&gt; | oldpeak_normalized &lt;dbl&gt; |\n",
       "|---|---|---|---|---|---|---|---|---|---|---|---|---|---|---|---|---|---|---|---|---|---|\n",
       "| 1 | 1 | old         | Male   | Cleveland | typical angina  | 145 | 233 |  TRUE | lv hypertrophy | 150 | ⋯ | downsloping | 0 | 2 | 0 | old         | 2 | 0.7066667 | 0.03080023 | 0.5438596 | 0.3709677 |\n",
       "| 2 | 2 | old         | Male   | Cleveland | asymptomatic    | 160 | 286 | FALSE | lv hypertrophy | 108 | ⋯ | flat        | 3 | 1 | 1 | old         | 1 | 0.7866667 | 0.04605642 | 0.1754386 | 0.2419355 |\n",
       "| 3 | 3 | old         | Male   | Cleveland | asymptomatic    | 120 | 229 | FALSE | lv hypertrophy | 129 | ⋯ | flat        | 2 | 3 | 1 | old         | 3 | 0.5733333 | 0.02964882 | 0.3596491 | 0.4193548 |\n",
       "| 4 | 4 | middle-aged | Male   | Cleveland | non-anginal     | 130 | 250 | FALSE | normal         | 187 | ⋯ | downsloping | 0 | 1 | 0 | middle-aged | 1 | 0.6266667 | 0.03569372 | 0.8684211 | 0.5645161 |\n",
       "| 5 | 5 | middle-aged | Female | Cleveland | atypical angina | 130 | 204 | FALSE | lv hypertrophy | 172 | ⋯ | upsloping   | 0 | 1 | 0 | middle-aged | 1 | 0.6266667 | 0.02245250 | 0.7368421 | 0.2258065 |\n",
       "| 6 | 6 | middle-aged | Male   | Cleveland | atypical angina | 120 | 236 | FALSE | normal         | 178 | ⋯ | upsloping   | 0 | 1 | 0 | middle-aged | 1 | 0.5733333 | 0.03166379 | 0.7894737 | 0.1290323 |\n",
       "\n"
      ],
      "text/plain": [
       "  id age         sex    dataset   cp              trestbps chol fbs  \n",
       "1 1  old         Male   Cleveland typical angina  145      233   TRUE\n",
       "2 2  old         Male   Cleveland asymptomatic    160      286  FALSE\n",
       "3 3  old         Male   Cleveland asymptomatic    120      229  FALSE\n",
       "4 4  middle-aged Male   Cleveland non-anginal     130      250  FALSE\n",
       "5 5  middle-aged Female Cleveland atypical angina 130      204  FALSE\n",
       "6 6  middle-aged Male   Cleveland atypical angina 120      236  FALSE\n",
       "  restecg        thalch ⋯ slope       ca thal num age_category thal_numeric\n",
       "1 lv hypertrophy 150    ⋯ downsloping 0  2    0   old          2           \n",
       "2 lv hypertrophy 108    ⋯ flat        3  1    1   old          1           \n",
       "3 lv hypertrophy 129    ⋯ flat        2  3    1   old          3           \n",
       "4 normal         187    ⋯ downsloping 0  1    0   middle-aged  1           \n",
       "5 lv hypertrophy 172    ⋯ upsloping   0  1    0   middle-aged  1           \n",
       "6 normal         178    ⋯ upsloping   0  1    0   middle-aged  1           \n",
       "  trestbps_normalized chol_normalized thalch_normalized oldpeak_normalized\n",
       "1 0.7066667           0.03080023      0.5438596         0.3709677         \n",
       "2 0.7866667           0.04605642      0.1754386         0.2419355         \n",
       "3 0.5733333           0.02964882      0.3596491         0.4193548         \n",
       "4 0.6266667           0.03569372      0.8684211         0.5645161         \n",
       "5 0.6266667           0.02245250      0.7368421         0.2258065         \n",
       "6 0.5733333           0.03166379      0.7894737         0.1290323         "
      ]
     },
     "metadata": {},
     "output_type": "display_data"
    }
   ],
   "source": [
    "head(mydata)"
   ]
  },
  {
   "cell_type": "code",
   "execution_count": 191,
   "metadata": {
    "execution": {
     "iopub.execute_input": "2025-04-23T19:47:10.108006Z",
     "iopub.status.busy": "2025-04-23T19:47:10.106549Z",
     "iopub.status.idle": "2025-04-23T19:47:10.162416Z",
     "shell.execute_reply": "2025-04-23T19:47:10.159951Z"
    },
    "trusted": true,
    "vscode": {
     "languageId": "r"
    }
   },
   "outputs": [
    {
     "data": {
      "text/html": [
       "<style>\n",
       ".dl-inline {width: auto; margin:0; padding: 0}\n",
       ".dl-inline>dt, .dl-inline>dd {float: none; width: auto; display: inline-block}\n",
       ".dl-inline>dt::after {content: \":\\0020\"; padding-right: .5ex}\n",
       ".dl-inline>dt:not(:first-of-type) {padding-left: .5ex}\n",
       "</style><dl class=dl-inline><dt>id</dt><dd>0</dd><dt>age</dt><dd>216</dd><dt>sex</dt><dd>1</dd><dt>dataset</dt><dd>0</dd><dt>cp</dt><dd>0</dd><dt>trestbps</dt><dd>1</dd><dt>chol</dt><dd>2</dd><dt>fbs</dt><dd>0</dd><dt>restecg</dt><dd>0</dd><dt>thalch</dt><dd>1</dd><dt>exang</dt><dd>0</dd><dt>oldpeak</dt><dd>1</dd><dt>slope</dt><dd>0</dd><dt>ca</dt><dd>0</dd><dt>thal</dt><dd>216</dd><dt>num</dt><dd>0</dd><dt>age_category</dt><dd>0</dd><dt>thal_numeric</dt><dd>0</dd><dt>trestbps_normalized</dt><dd>0</dd><dt>chol_normalized</dt><dd>0</dd><dt>thalch_normalized</dt><dd>0</dd><dt>oldpeak_normalized</dt><dd>0</dd></dl>\n"
      ],
      "text/latex": [
       "\\begin{description*}\n",
       "\\item[id] 0\n",
       "\\item[age] 216\n",
       "\\item[sex] 1\n",
       "\\item[dataset] 0\n",
       "\\item[cp] 0\n",
       "\\item[trestbps] 1\n",
       "\\item[chol] 2\n",
       "\\item[fbs] 0\n",
       "\\item[restecg] 0\n",
       "\\item[thalch] 1\n",
       "\\item[exang] 0\n",
       "\\item[oldpeak] 1\n",
       "\\item[slope] 0\n",
       "\\item[ca] 0\n",
       "\\item[thal] 216\n",
       "\\item[num] 0\n",
       "\\item[age\\textbackslash{}\\_category] 0\n",
       "\\item[thal\\textbackslash{}\\_numeric] 0\n",
       "\\item[trestbps\\textbackslash{}\\_normalized] 0\n",
       "\\item[chol\\textbackslash{}\\_normalized] 0\n",
       "\\item[thalch\\textbackslash{}\\_normalized] 0\n",
       "\\item[oldpeak\\textbackslash{}\\_normalized] 0\n",
       "\\end{description*}\n"
      ],
      "text/markdown": [
       "id\n",
       ":   0age\n",
       ":   216sex\n",
       ":   1dataset\n",
       ":   0cp\n",
       ":   0trestbps\n",
       ":   1chol\n",
       ":   2fbs\n",
       ":   0restecg\n",
       ":   0thalch\n",
       ":   1exang\n",
       ":   0oldpeak\n",
       ":   1slope\n",
       ":   0ca\n",
       ":   0thal\n",
       ":   216num\n",
       ":   0age_category\n",
       ":   0thal_numeric\n",
       ":   0trestbps_normalized\n",
       ":   0chol_normalized\n",
       ":   0thalch_normalized\n",
       ":   0oldpeak_normalized\n",
       ":   0\n",
       "\n"
      ],
      "text/plain": [
       "                 id                 age                 sex             dataset \n",
       "                  0                 216                   1                   0 \n",
       "                 cp            trestbps                chol                 fbs \n",
       "                  0                   1                   2                   0 \n",
       "            restecg              thalch               exang             oldpeak \n",
       "                  0                   1                   0                   1 \n",
       "              slope                  ca                thal                 num \n",
       "                  0                   0                 216                   0 \n",
       "       age_category        thal_numeric trestbps_normalized     chol_normalized \n",
       "                  0                   0                   0                   0 \n",
       "  thalch_normalized  oldpeak_normalized \n",
       "                  0                   0 "
      ]
     },
     "metadata": {},
     "output_type": "display_data"
    }
   ],
   "source": [
    "# 1. Handle invalid 'age' (e.g., negative or unrealistic ages)\n",
    "mydata$age[mydata$age < 18 | mydata$age > 100] <- NA  # Invalid age range\n",
    "\n",
    "\n",
    "valid_sex_values <- c(\"Male\", \"Female\")\n",
    "mydata$sex[!(mydata$sex %in% valid_sex_values)] <- NA  \n",
    "\n",
    "# 3. Handle invalid 'chol' (cholesterol must be between 100 and 500)\n",
    "mydata$chol[mydata$chol < 100 | mydata$chol > 500] <- NA  # Cholesterol levels\n",
    "\n",
    "# 4. Handle invalid 'trestbps' (resting blood pressure must be between 50 and 200)\n",
    "mydata$trestbps[mydata$trestbps < 50 | mydata$trestbps > 200] <- NA  # Blood pressure\n",
    "\n",
    "# 5. Handle invalid 'fbs' (must be TRUE or FALSE)\n",
    "valid_fbs_values <- c(TRUE, FALSE)\n",
    "mydata$fbs[!(mydata$fbs %in% valid_fbs_values)] <- NA  # Invalid fasting blood sugar\n",
    "\n",
    "# 6. Handle invalid 'restecg' (must be valid categories like \"normal\", \"lv hypertrophy\")\n",
    "valid_restecg_values <- c(\"normal\", \"lv hypertrophy\", \"st-t wave abnormality\")\n",
    "mydata$restecg[!(mydata$restecg %in% valid_restecg_values)] <- NA  # Invalid restecg values\n",
    "\n",
    "# 7. Handle invalid 'thalch' (heart rate should be between 60 and 200)\n",
    "mydata$thalch[mydata$thalch < 60 | mydata$thalch > 200] <- NA  # Invalid heart rate\n",
    "\n",
    "# 8. Handle invalid 'oldpeak' (ST depression must be between 0 and 6)\n",
    "mydata$oldpeak[mydata$oldpeak < 0 | mydata$oldpeak > 6] <- NA  # Invalid oldpeak\n",
    "\n",
    "# 9. Handle invalid 'ca' (should be between 0 and 3)\n",
    "mydata$ca[mydata$ca < 0 | mydata$ca > 3] <- NA  # Invalid number of vessels\n",
    "\n",
    "# 10. Handle invalid 'thal' (invalid categories like \"?\", \"unknown\")\n",
    "valid_thal_values <- c(\"normal\", \"fixed defect\", \"reversable defect\")\n",
    "mydata$thal[!(mydata$thal %in% valid_thal_values)] <- NA  # Invalid thal values\n",
    "\n",
    "# 11. Handle invalid 'num' (must be 0 or 1)\n",
    "mydata$num[!(mydata$num %in% c(0, 1))] <- NA  # Invalid num values\n",
    "\n",
    "# 12. Handle invalid 'dataset' (if necessary, assume correct values like \"Cleveland\", \"Hungarian\", etc.)\n",
    "valid_dataset_values <- c(\"Cleveland\", \"Hungarian\", \"Switzerland\", \"Indian\")\n",
    "mydata$dataset[!(mydata$dataset %in% valid_dataset_values)] <- NA  # Invalid dataset values\n",
    "\n",
    "# 13. Replace invalid values in 'thal' (e.g., \"?\") with mode (if necessary)\n",
    "mydata$thal[mydata$thal == \"?\"] <- \"normal\"  # Replace missing values in 'thal' with mode\n",
    "\n",
    "# Check the updated dataset for invalid entries and missing values\n",
    "colSums(is.na(mydata))  # Check for missing values after handling invalid data\n"
   ]
  }
 ],
 "metadata": {
  "kaggle": {
   "accelerator": "none",
   "dataSources": [
    {
     "datasetId": 7229159,
     "sourceId": 11526569,
     "sourceType": "datasetVersion"
    }
   ],
   "dockerImageVersionId": 30749,
   "isGpuEnabled": false,
   "isInternetEnabled": false,
   "language": "r",
   "sourceType": "notebook"
  },
  "kernelspec": {
   "display_name": "R",
   "language": "R",
   "name": "ir"
  },
  "language_info": {
   "codemirror_mode": "r",
   "file_extension": ".r",
   "mimetype": "text/x-r-source",
   "name": "R",
   "pygments_lexer": "r",
   "version": "4.4.0"
  }
 },
 "nbformat": 4,
 "nbformat_minor": 4
}
